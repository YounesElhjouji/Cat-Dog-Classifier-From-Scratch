{
  "nbformat": 4,
  "nbformat_minor": 0,
  "metadata": {
    "colab": {
      "name": "CatDogClassifier.ipynb",
      "version": "0.3.2",
      "provenance": [],
      "collapsed_sections": []
    },
    "kernelspec": {
      "display_name": "Python 3",
      "language": "python",
      "name": "python3"
    }
  },
  "cells": [
    {
      "metadata": {
        "id": "GQ59gJ7hcNKD",
        "colab_type": "code",
        "colab": {}
      },
      "cell_type": "code",
      "source": [
        "from os import walk\n",
        "import time\n",
        "import numpy as np\n",
        "import PIL.Image as Im #Image Processing library\n",
        "import tqdm #Loading Bar"
      ],
      "execution_count": 0,
      "outputs": []
    },
    {
      "metadata": {
        "id": "gEg7K1qegRlM",
        "colab_type": "text"
      },
      "cell_type": "markdown",
      "source": [
        "# Section 1: Opening and normalizing images"
      ]
    },
    {
      "metadata": {
        "id": "1fsxsQV3cNKI",
        "colab_type": "text"
      },
      "cell_type": "markdown",
      "source": [
        "This function gets a folder name and returns the names of all the files in that folder"
      ]
    },
    {
      "metadata": {
        "id": "hcPlW90ecNKJ",
        "colab_type": "code",
        "colab": {}
      },
      "cell_type": "code",
      "source": [
        "def imagePaths(folderName):\n",
        "    f = []\n",
        "    for root, dirs, files in walk(folderName):\n",
        "        for filename in files:\n",
        "            f.append(folderName+'/'+filename)\n",
        "    return f"
      ],
      "execution_count": 0,
      "outputs": []
    },
    {
      "metadata": {
        "id": "VnOH6x-FcNKM",
        "colab_type": "text"
      },
      "cell_type": "markdown",
      "source": [
        "This function opens the images and returns an array of grayscale images"
      ]
    },
    {
      "metadata": {
        "id": "E8J0zhXGcNKN",
        "colab_type": "code",
        "colab": {}
      },
      "cell_type": "code",
      "source": [
        "def openImages(paths):\n",
        "    images = []\n",
        "    for path in paths[:numberOfImagesForTraining]:\n",
        "        image = Im.open(path).convert(\"L\")\n",
        "        images.append(image)\n",
        "    return images"
      ],
      "execution_count": 0,
      "outputs": []
    },
    {
      "metadata": {
        "id": "BssaJJz9cVZl",
        "colab_type": "text"
      },
      "cell_type": "markdown",
      "source": [
        "This function resizes the input images"
      ]
    },
    {
      "metadata": {
        "id": "q2Y2qR-PcNKT",
        "colab_type": "code",
        "colab": {}
      },
      "cell_type": "code",
      "source": [
        "def ResizeAndKeepRatio(images,ratio,avgWidth,avgHeight):\n",
        "    newImages = []\n",
        "    sizes = []\n",
        "    # Make all images of the average width while keeping the aspect ratio\n",
        "    for image in images:\n",
        "        if (image.height/image.width)<ratio:\n",
        "            wpercent = (avgWidth / float(image.size[0]))\n",
        "            hsize = int((float(image.size[1]) * float(wpercent)))\n",
        "            image = image.resize((avgWidth, hsize), Im.ANTIALIAS)\n",
        "        else:\n",
        "            hpercent = (avgHeight / float(image.size[1]))\n",
        "            wsize = int((float(image.size[0]) * float(hpercent)))\n",
        "            image = image.resize((wsize, avgHeight), Im.ANTIALIAS)\n",
        "        newImages.append(image)\n",
        "        sizes.append(image.size)\n",
        "    images = newImages\n",
        "    return images"
      ],
      "execution_count": 0,
      "outputs": []
    },
    {
      "metadata": {
        "id": "Z5AGKjdPcNKX",
        "colab_type": "text"
      },
      "cell_type": "markdown",
      "source": [
        "Get the max height of the images and fill images under that size with black bars to match the heights\n"
      ]
    },
    {
      "metadata": {
        "id": "fQASrvaocNKY",
        "colab_type": "code",
        "colab": {}
      },
      "cell_type": "code",
      "source": [
        "def fillImagesWithBlackBars(images,avgWidth,avgHeight):\n",
        "    newImages = []\n",
        "    for image in images:\n",
        "        oldSize = image.size\n",
        "        newSize = (avgWidth, avgHeight)\n",
        "        newImage = Im.new(\"L\", newSize,color=128)\n",
        "        newImage.paste(image, (int((newSize[0] - oldSize[0]) / 2),\n",
        "                                int((newSize[1] - oldSize[1]) / 2)))\n",
        "        newImages.append(newImage)\n",
        "    images = newImages\n",
        "    return images"
      ],
      "execution_count": 0,
      "outputs": []
    },
    {
      "metadata": {
        "id": "Oet7MWdLcNKb",
        "colab_type": "text"
      },
      "cell_type": "markdown",
      "source": [
        "This function takes images of different sizes and returns images of the same size without distortion"
      ]
    },
    {
      "metadata": {
        "id": "PFOBMijLcNKc",
        "colab_type": "code",
        "colab": {}
      },
      "cell_type": "code",
      "source": [
        "def adjustImageSizes(images,size = (0,0)):\n",
        "    # Get average Width of images if we don't have it yet (training set)\n",
        "    if (size==(0,0)):\n",
        "        sizes = []\n",
        "        for image in images:\n",
        "            sizes.append(image.size)\n",
        "        averages = np.ceil(np.mean(sizes, axis=0))\n",
        "\n",
        "        avgWidth = int(averages[0])\n",
        "        avgHeight = int(averages[1])\n",
        "    # Otherwise, this would be the test set in which case we apply the same dimensions for the\n",
        "    # training set\n",
        "    else:\n",
        "        avgWidth = size[0]\n",
        "        avgHeight = size[1]\n",
        "    ratio = avgHeight / avgWidth\n",
        "\n",
        "    images = ResizeAndKeepRatio(images,ratio,avgWidth,avgHeight)\n",
        "\n",
        "    images = fillImagesWithBlackBars(images,avgWidth,avgHeight)\n",
        "    return images"
      ],
      "execution_count": 0,
      "outputs": []
    },
    {
      "metadata": {
        "id": "6xrnhd51cNKh",
        "colab_type": "text"
      },
      "cell_type": "markdown",
      "source": [
        "Get labels of the images from the paths"
      ]
    },
    {
      "metadata": {
        "id": "AnnAGqsccNKi",
        "colab_type": "code",
        "colab": {}
      },
      "cell_type": "code",
      "source": [
        "def getLabels(paths):\n",
        "    labels = []\n",
        "    for path in paths[:numberOfImagesForTraining]:\n",
        "        if \"cat\" in path:\n",
        "            labels.append(1)\n",
        "        else:\n",
        "            labels.append(0)\n",
        "    return labels"
      ],
      "execution_count": 0,
      "outputs": []
    },
    {
      "metadata": {
        "id": "ixowgZrggZWv",
        "colab_type": "text"
      },
      "cell_type": "markdown",
      "source": [
        "Converts an image to an array of numbers; those numbers \n",
        "represent the pixels"
      ]
    },
    {
      "metadata": {
        "id": "qhNdD8YmcNKo",
        "colab_type": "code",
        "colab": {}
      },
      "cell_type": "code",
      "source": [
        "def imagesToArray(images):\n",
        "    array = []\n",
        "    for image in images:\n",
        "        element = np.asarray(image)\n",
        "        element = element.flatten()\n",
        "        element = normalize(element)\n",
        "        array.append(element)\n",
        "    return array"
      ],
      "execution_count": 0,
      "outputs": []
    },
    {
      "metadata": {
        "id": "umDr_JuOcNKr",
        "colab_type": "text"
      },
      "cell_type": "markdown",
      "source": [
        "Process train images by making them the same size and extracting their labels, then turning them to"
      ]
    },
    {
      "metadata": {
        "id": "MpvNSEhncNKs",
        "colab_type": "code",
        "colab": {}
      },
      "cell_type": "code",
      "source": [
        "def processTrainImages(path):\n",
        "    paths = imagePaths(path)\n",
        "    labels = getLabels(paths)\n",
        "    images = openImages(paths)\n",
        "    images = adjustImageSizes(images)\n",
        "    X = imagesToArray(images)\n",
        "    return X,labels,images[0].size"
      ],
      "execution_count": 0,
      "outputs": []
    },
    {
      "metadata": {
        "id": "-fqUfiV1gg_h",
        "colab_type": "text"
      },
      "cell_type": "markdown",
      "source": [
        "We need a seperate function to process the test images because their width and height is not determined by the average width and height of test images but by the average width and height of the ttraining images. \n",
        "This is because the number of inputs into the model needs to be the same whether we are training or testing."
      ]
    },
    {
      "metadata": {
        "id": "7xGiPcv4cNKv",
        "colab_type": "code",
        "colab": {}
      },
      "cell_type": "code",
      "source": [
        "def processTestImages(path,size):\n",
        "    paths = imagePaths(path)\n",
        "    images = openImages(paths)\n",
        "    images = adjustImageSizes(images,size)\n",
        "    X = imagesToArray(images)\n",
        "    return X,images"
      ],
      "execution_count": 0,
      "outputs": []
    },
    {
      "metadata": {
        "id": "QiE-efm5cNKy",
        "colab_type": "text"
      },
      "cell_type": "markdown",
      "source": [
        "# Section 2: The learning"
      ]
    },
    {
      "metadata": {
        "id": "cw5_thh6cNKz",
        "colab_type": "text"
      },
      "cell_type": "markdown",
      "source": [
        "Activation functions and their derivatives"
      ]
    },
    {
      "metadata": {
        "id": "DKs1gsN1cNK0",
        "colab_type": "code",
        "colab": {}
      },
      "cell_type": "code",
      "source": [
        "def RelU(Z):\n",
        "    return np.maximum(Z,0)"
      ],
      "execution_count": 0,
      "outputs": []
    },
    {
      "metadata": {
        "id": "WN9-lZbycNK3",
        "colab_type": "code",
        "colab": {}
      },
      "cell_type": "code",
      "source": [
        "def RelUPrime(Z):\n",
        "    return np.where(Z > 0, 1, 0)"
      ],
      "execution_count": 0,
      "outputs": []
    },
    {
      "metadata": {
        "id": "FmN8jZ_NcNK7",
        "colab_type": "code",
        "colab": {}
      },
      "cell_type": "code",
      "source": [
        "def sigmoid(S):\n",
        "    sig = 1/(1+np.exp(-S))\n",
        "    return sig"
      ],
      "execution_count": 0,
      "outputs": []
    },
    {
      "metadata": {
        "id": "ptECIPEIcNLB",
        "colab_type": "code",
        "colab": {}
      },
      "cell_type": "code",
      "source": [
        "def sigmoidPrime(S):\n",
        "    sig = sigmoid(S)*(1-sigmoid(S))\n",
        "    return sig"
      ],
      "execution_count": 0,
      "outputs": []
    },
    {
      "metadata": {
        "id": "2fMSgcaHcNLH",
        "colab_type": "text"
      },
      "cell_type": "markdown",
      "source": [
        "Normalization"
      ]
    },
    {
      "metadata": {
        "id": "XRAXClticNLI",
        "colab_type": "code",
        "colab": {}
      },
      "cell_type": "code",
      "source": [
        "# Old normalization function, does not give good results\n",
        "def oldNormalize(X):\n",
        "    sum = np.sum(np.square(X))\n",
        "    sqr = sum**(0.5)\n",
        "    X = X/sqr\n",
        "    return X"
      ],
      "execution_count": 0,
      "outputs": []
    },
    {
      "metadata": {
        "id": "4EpjFhM0cNLL",
        "colab_type": "code",
        "colab": {}
      },
      "cell_type": "code",
      "source": [
        "def normalize(X):\n",
        "    max = np.max(X)\n",
        "    min = np.min(X)\n",
        "    norm = (X-min)/(max-min)\n",
        "    return norm"
      ],
      "execution_count": 0,
      "outputs": []
    },
    {
      "metadata": {
        "id": "8j5u3mADcxai",
        "colab_type": "text"
      },
      "cell_type": "markdown",
      "source": [
        "Initializition of weights and biases"
      ]
    },
    {
      "metadata": {
        "id": "zDj4H5YMcNLR",
        "colab_type": "code",
        "colab": {}
      },
      "cell_type": "code",
      "source": [
        "def initialize(nx):\n",
        "    W = []\n",
        "    B = []\n",
        "    # Factor by which the values are shrunk\n",
        "    factor = 1\n",
        "    firstW = np.random.randn(nodes,nx)*factor\n",
        "    W.append(firstW)\n",
        "    firstB = np.random.randn(nodes, 1) *factor\n",
        "    B.append(firstB)\n",
        "    for i in range(L-2):\n",
        "        middleW = np.random.randn(nodes,nodes)*factor\n",
        "        W.append(middleW)\n",
        "        middleB = np.random.randn(nodes,1)*factor\n",
        "        B.append(middleB)\n",
        "    lastW = np.random.randn(1,nodes)*factor\n",
        "    W.append(lastW)\n",
        "    lastB = np.random.randn() *factor\n",
        "    B.append(lastB)\n",
        "\n",
        "    return W,B"
      ],
      "execution_count": 0,
      "outputs": []
    },
    {
      "metadata": {
        "id": "aixcZ3WKcNLV",
        "colab_type": "text"
      },
      "cell_type": "markdown",
      "source": [
        "Gradient Descent"
      ]
    },
    {
      "metadata": {
        "id": "BRaPCTLqcNLX",
        "colab_type": "code",
        "colab": {}
      },
      "cell_type": "code",
      "source": [
        "def gradientDescent(W,B,X,Y,iters,learnRate):\n",
        "    X = np.transpose(X)\n",
        "    nx,m = np.shape(X)\n",
        "    Z = [None]*L\n",
        "    A = [None]*L\n",
        "    dZ = [None]*L\n",
        "    dW = [None]*L\n",
        "    dB = [None]*L\n",
        "    dA = [None]*L\n",
        "\n",
        "    for j in tqdm.tqdm(range(iters)):\n",
        "        # Forward Pass\n",
        "        A,Z = forwardPass(X,W,B,Z,A)\n",
        "        # Initialization for backward propagation\n",
        "        dZ[L-1] = A[L-1] - Y\n",
        "        dA[L-2] = np.dot(np.transpose(W[L-1]),dZ[L-1])\n",
        "        dW[L-1] = (1 / m) * np.dot(dZ[L-1], A[L-2].T)\n",
        "        dB[L-1] = (1 / m) * np.sum(dZ[L-1])\n",
        "        # Back Propagation\n",
        "        for layer in range(L-2, -1, -1):\n",
        "            dZ[layer] = np.multiply(dA[layer],sigmoidPrime(Z[layer]))\n",
        "            dW[layer] = (1/m) * np.dot(dZ[layer],A[layer-1].T)\n",
        "            dB[layer] = (1/m) * np.sum(dZ[layer],axis=1,keepdims=True)\n",
        "            dA[layer-1] = np.dot(np.transpose(W[layer]),dZ[layer])\n",
        "        for layer in range(0,L):\n",
        "            W[layer] = W[layer] - learnRate * dW[layer]\n",
        "            B[layer] = B[layer] - learnRate * dB[layer]\n",
        "    return W, B"
      ],
      "execution_count": 0,
      "outputs": []
    },
    {
      "metadata": {
        "id": "rIyH1UatcNLZ",
        "colab_type": "code",
        "colab": {}
      },
      "cell_type": "code",
      "source": [
        "def forwardPass(X,W,B,Z,A):\n",
        "    layer = 0\n",
        "    Z[layer] = np.dot(W[layer], X) + B[layer]\n",
        "    A[layer] = sigmoid(Z[layer])\n",
        "    for layer in range(1, L):\n",
        "        Z[layer] = np.dot(W[layer], A[layer - 1]) + B[layer]\n",
        "        A[layer] = sigmoid(Z[layer])\n",
        "    # Overwriting A[L-1] instead of checking in every iteration\n",
        "    A[L - 1] = sigmoid(Z[L - 1])\n",
        "    return A,Z"
      ],
      "execution_count": 0,
      "outputs": []
    },
    {
      "metadata": {
        "id": "MAFbn1RGhRMO",
        "colab_type": "text"
      },
      "cell_type": "markdown",
      "source": [
        "test() returns the results instead of the success rate. This is because this is a learning project and it is helpful for me to see the result outputed for each element of the test set ad therefore see where learning is good and where it is bad."
      ]
    },
    {
      "metadata": {
        "id": "mE7Bhnn9cNLc",
        "colab_type": "code",
        "colab": {}
      },
      "cell_type": "code",
      "source": [
        "def test(X,W,B):\n",
        "    X = np.transpose(X)\n",
        "    result = []\n",
        "    A,Z = forwardPass(X,W,B,[None]*L,[None]*L)\n",
        "    for element in A[L-1][0]:\n",
        "        result.append(round(element))\n",
        "    return result"
      ],
      "execution_count": 0,
      "outputs": []
    },
    {
      "metadata": {
        "id": "0q6_GMELdvmt",
        "colab_type": "text"
      },
      "cell_type": "markdown",
      "source": [
        "## Main Function"
      ]
    },
    {
      "metadata": {
        "id": "QC9DUNAicNLg",
        "colab_type": "code",
        "colab": {}
      },
      "cell_type": "code",
      "source": [
        "def main():\n",
        "    trainPath = \"put the path to  the training set here\"\n",
        "    testPath  = \"put the path to the test set here\"\n",
        "    X,Y,size = processTrainImages(trainPath)\n",
        "    W,B = initialize(np.shape(X)[1])\n",
        "\n",
        "    print(\"Learning with a learning rate of\",learningRate,\"and\",iterations,\"iterations\")\n",
        "    W,B = gradientDescent(W,B,X,Y,iterations,learningRate)\n",
        "    X,images = processTestImages(testPath, size)\n",
        "    result = test(X,W,B)\n",
        "    print(\"Result\",result)\n"
      ],
      "execution_count": 0,
      "outputs": []
    },
    {
      "metadata": {
        "id": "TOuRCIp3do9a",
        "colab_type": "text"
      },
      "cell_type": "markdown",
      "source": [
        "## Hyperparameters"
      ]
    },
    {
      "metadata": {
        "id": "b0ivGx8XcNLk",
        "colab_type": "code",
        "colab": {}
      },
      "cell_type": "code",
      "source": [
        "# This is the number of images used for training\n",
        "# make it larger to train better\n",
        "# make it smaller to test quickly\n",
        "# make sure the number does not exceed the number of training images you have\n",
        "numberOfImagesForTraining = 100\n",
        "# Number of Layers\n",
        "L = 10\n",
        "# Number of nodes per hidden layer\n",
        "nodes = 15\n",
        "# Number of Iterations\n",
        "iterations = 500\n",
        "# Learning rate\n",
        "learningRate = 0.1\n",
        "\n",
        "main()"
      ],
      "execution_count": 0,
      "outputs": []
    }
  ]
}